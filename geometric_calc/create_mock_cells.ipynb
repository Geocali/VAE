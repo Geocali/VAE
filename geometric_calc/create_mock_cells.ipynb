{
 "cells": [
  {
   "cell_type": "code",
   "execution_count": 7,
   "metadata": {
    "collapsed": false
   },
   "outputs": [],
   "source": [
    "import pandas as pd\n",
    "import numpy as np\n"
   ]
  },
  {
   "cell_type": "code",
   "execution_count": 25,
   "metadata": {
    "collapsed": false
   },
   "outputs": [],
   "source": [
    "tab = []\n",
    "\n",
    "cell_id = 0\n",
    "diams = [18.33, 18.6, 18]\n",
    "heights = [66.86, 66.2]\n",
    "for i in range(150):\n",
    "    cell_id = cell_id + 1\n",
    "    \n",
    "    capacity_4000mV = int(3200 + np.random.rand(1)[0] * 800)\n",
    "    capacity_3700mV = int(3000 + np.random.rand(1)[0] * 600)\n",
    "    \n",
    "    rd1 = np.random.rand(1)[0] * len(diams)\n",
    "    for i in range(len(diams)):\n",
    "        if rd1 >= i and rd1 < i + 1:\n",
    "            diam = diams[i]\n",
    "    \n",
    "    rd2 = np.random.rand(1)[0] * len(heights)\n",
    "    for i in range(len(heights)):\n",
    "        if rd2 >= i and rd2 < i + 1:\n",
    "            height = heights[i]\n",
    "            \n",
    "    test_date = \"08/05/2017\"\n",
    "            \n",
    "    tab.append([cell_id, capacity_4000mV, capacity_3700mV, diam, height, test_date])\n",
    "    \n",
    "df = pd.DataFrame(columns=[\"cell_id\",\"capacity_4000mV\",\"capacity_3700mV\",\"diam\",\"height\",\"test_date\"], data=tab)\n",
    "\n",
    "df.to_csv(\"cells.csv\", index=False)"
   ]
  },
  {
   "cell_type": "code",
   "execution_count": null,
   "metadata": {
    "collapsed": true
   },
   "outputs": [],
   "source": []
  }
 ],
 "metadata": {
  "kernelspec": {
   "display_name": "Python 3",
   "language": "python",
   "name": "python3"
  },
  "language_info": {
   "codemirror_mode": {
    "name": "ipython",
    "version": 3
   },
   "file_extension": ".py",
   "mimetype": "text/x-python",
   "name": "python",
   "nbconvert_exporter": "python",
   "pygments_lexer": "ipython3",
   "version": "3.6.0"
  }
 },
 "nbformat": 4,
 "nbformat_minor": 2
}
