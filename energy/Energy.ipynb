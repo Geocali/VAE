{
 "cells": [
  {
   "cell_type": "markdown",
   "metadata": {
    "collapsed": true
   },
   "source": [
    "conda install -c conda-forge pyshp=1.2.11"
   ]
  },
  {
   "cell_type": "code",
   "execution_count": 201,
   "metadata": {
    "collapsed": false
   },
   "outputs": [],
   "source": [
    "# https://anaconda.org/conda-forge/gpxpy\n",
    "import gpxpy\n",
    "import gpxpy.gpx\n",
    "import shapefile\n",
    "import urllib.request\n",
    "import json\n",
    "import pandas as pd"
   ]
  },
  {
   "cell_type": "markdown",
   "metadata": {},
   "source": [
    "https://www.openrouteservice.org/directions?a=48.883601,2.327156,48.911916,2.334008&b=1f&c=0&g1=-1&g2=0&h2=3&k1=en-US&k2=km"
   ]
  },
  {
   "cell_type": "code",
   "execution_count": 170,
   "metadata": {
    "collapsed": false
   },
   "outputs": [],
   "source": [
    "import math\n",
    "\n",
    "# calculer la distance entre 2 points avec lat/long\n",
    "def distance_on_unit_sphere(lat1, long1, lat2, long2):\n",
    "\n",
    "    # Converts lat & long to spherical coordinates in radians.\n",
    "    degrees_to_radians = math.pi/180.0\n",
    "\n",
    "    # phi = 90 - latitude\n",
    "    phi1 = (90.0 - lat1)*degrees_to_radians\n",
    "    phi2 = (90.0 - lat2)*degrees_to_radians\n",
    "\n",
    "    # theta = longitude\n",
    "    theta1 = long1*degrees_to_radians\n",
    "    theta2 = long2*degrees_to_radians\n",
    "\n",
    "    # Compute the spherical distance from spherical coordinates.\n",
    "    # For two locations in spherical coordinates:\n",
    "    # (1, theta, phi) and (1, theta', phi')cosine( arc length ) =\n",
    "    # sin phi sin phi' cos(theta-theta') + cos phi cos phi' distance = rho * arc    length\n",
    "\n",
    "    cos = (math.sin(phi1)*math.sin(phi2)*math.cos(theta1 - theta2) + math.cos(phi1)*math.cos(phi2))\n",
    "    arc = math.acos(cos)*6371 #radius of the earth in km\n",
    "\n",
    "    return float(arc)\n"
   ]
  },
  {
   "cell_type": "markdown",
   "metadata": {},
   "source": [
    "Equation de la droite avec les points p1 (x1, y1) et p2 (x2, y2)<br>\n",
    "y = (y2 - y1) / (x2 - x1) * x + y1<br>\n",
    "a = (y2 - y1) / (x2 - x1)<br>\n",
    "\n",
    "y1 = a * x1 + b<br>\n",
    "b = y1 - a * x1"
   ]
  },
  {
   "cell_type": "code",
   "execution_count": 82,
   "metadata": {
    "collapsed": true
   },
   "outputs": [],
   "source": [
    "# calcul de la distance entre un point et une droite\n",
    "def d_pt_d(x, y, x1, y1, x2, y2):\n",
    "    a = (y2 - y1) / (x2 - x1)\n",
    "    b = y1 - a * x1\n",
    "    d = abs(a * x - y + b) / math.sqrt(1 + a**2)\n",
    "    return d"
   ]
  },
  {
   "cell_type": "code",
   "execution_count": 94,
   "metadata": {
    "collapsed": true
   },
   "outputs": [],
   "source": [
    "# pour savoir si un point est sur un segment de droite\n",
    "def pt_sur_seg(x, y, x1, y1, x2, y2):\n",
    "    # la distance du point à la droite doit être nulle\n",
    "    cond1 = d_pt_d(x, y, x1, y1, x2, y2) < 0.1\n",
    "    # le point doit être entre les 2 points du segment\n",
    "    d = math.sqrt((y1 - y2)**2 + (x1 - x2)**2)\n",
    "    d1 = math.sqrt((y1 - y)**2 + (x1 - x)**2)\n",
    "    d2 = math.sqrt((y2 - y)**2 + (x2 - x)**2)\n",
    "    cond2 = d1 <= d and d2 <= d\n",
    "    return cond1 and cond2"
   ]
  },
  {
   "cell_type": "code",
   "execution_count": 84,
   "metadata": {
    "collapsed": true
   },
   "outputs": [],
   "source": [
    "sf = shapefile.Reader(\"C:/data_cv/prog/paris_france.osm2pgsql-shapefiles/paris_france_osm_point\")"
   ]
  },
  {
   "cell_type": "code",
   "execution_count": 85,
   "metadata": {
    "collapsed": false
   },
   "outputs": [],
   "source": [
    "#shapeRecs = sf.shapeRecords()"
   ]
  },
  {
   "cell_type": "code",
   "execution_count": 106,
   "metadata": {
    "collapsed": true
   },
   "outputs": [],
   "source": [
    "shapeRecs = sf.iterShapeRecords()"
   ]
  },
  {
   "cell_type": "code",
   "execution_count": 107,
   "metadata": {
    "collapsed": false
   },
   "outputs": [],
   "source": [
    "feux = []\n",
    "# boucle sur les formes du shapefile pour trouver les feux rouges\n",
    "for shapeRec in shapeRecs:\n",
    "    # boucle sur les infos de cette forme\n",
    "    for elmt in shapeRec.record:\n",
    "        if elmt == \"traffic_signals\":\n",
    "            #point = shapeRec.shape.points[0]\n",
    "            feux.append(shapeRec)"
   ]
  },
  {
   "cell_type": "code",
   "execution_count": 208,
   "metadata": {
    "collapsed": false
   },
   "outputs": [],
   "source": [
    "# boucle sur les segments de droite de la trace GPX\n",
    "gpx_file = open('ors-export-linestring.gpx', 'r')\n",
    "gpx = gpxpy.parse(gpx_file) \n",
    "\n",
    "dist = 0\n",
    "lat1, long1 = 0, 0\n",
    "\n",
    "points = []\n",
    "i = 0\n",
    "for track in gpx.tracks:\n",
    "    for segment in track.segments:\n",
    "        for point in segment.points:\n",
    "            lat2 = float(point.latitude)\n",
    "            long2 = float(point.longitude)\n",
    "            altitude2 = float(point.elevation)\n",
    "            #print('Point at ({0},{1}) -> {2}'.format(point.latitude, point.longitude, point.elevation))\n",
    "            if i == 0:\n",
    "                pk = 0\n",
    "                est_feu = False\n",
    "                altitude = point.elevation\n",
    "                points.append([lat2, long2, pk, est_feu, altitude])\n",
    "            if i > 0:\n",
    "                # on actualise le pk\n",
    "                if lat1!= lat2:\n",
    "                    pk = pk + distance_on_unit_sphere(lat1, long1, lat2, long2) * 1000\n",
    "                \n",
    "                # on cherche les feux sur ce segment\n",
    "                feux_seg = []\n",
    "                for feu in feux:\n",
    "                    x = feu.shape.points[0][1]\n",
    "                    y = feu.shape.points[0][0]\n",
    "                    if pt_sur_seg(x, y, lat1, long1, lat2, long2):\n",
    "                        pk_temp = pk + distance_on_unit_sphere(lat1, long1, x, y) * 1000\n",
    "                        # on évite les doublons\n",
    "                        if pk_temp - pk > 1:\n",
    "                            pk = pk_temp\n",
    "                            # pour chaque feu, on cherche l'altitude\n",
    "                            # si on utilise des données différentes, l'altitude sera légèrement incohérente\n",
    "                            # et si les points sont rapprochés, on peut avoir des pentes artificiellement très fortes\n",
    "                            alt = altitude1 + (altitude2 - altitude1) / (distance_on_unit_sphere(lat1, long1, lat2, long2) * 1000) * distance_on_unit_sphere(lat1, long1, x, y) * 1000\n",
    "                            feux_seg.append([x, y, pk, alt])\n",
    "                            \n",
    "                # on trie les feux selon leur pk\n",
    "                feux_seg = sorted(feux_seg, key=lambda feu: feu[2])\n",
    "                \n",
    "                # on les ajoute à la liste globale\n",
    "                for feu in feux_seg:\n",
    "                    i += 1\n",
    "                    points.append([feu[0], feu[1], feu[2], True, feu[3]])\n",
    "                \n",
    "                # on ajoute le point d'arrivée du segment à la liste globale\n",
    "                est_feu = False\n",
    "                altitude = point.elevation\n",
    "                points.append([lat2, long2, pk, est_feu, altitude])\n",
    "\n",
    "            lat1 = lat2\n",
    "            long1 = long2\n",
    "            altitude1 = altitude2\n",
    "            i = i + 1\n"
   ]
  },
  {
   "cell_type": "code",
   "execution_count": 209,
   "metadata": {
    "collapsed": false
   },
   "outputs": [
    {
     "data": {
      "text/html": [
       "<div>\n",
       "<table border=\"1\" class=\"dataframe\">\n",
       "  <thead>\n",
       "    <tr style=\"text-align: right;\">\n",
       "      <th></th>\n",
       "      <th>latitude</th>\n",
       "      <th>longitude</th>\n",
       "      <th>pk</th>\n",
       "      <th>feu</th>\n",
       "      <th>altitude</th>\n",
       "    </tr>\n",
       "  </thead>\n",
       "  <tbody>\n",
       "    <tr>\n",
       "      <th>0</th>\n",
       "      <td>48.883602</td>\n",
       "      <td>2.327156</td>\n",
       "      <td>0.000000</td>\n",
       "      <td>False</td>\n",
       "      <td>68.0</td>\n",
       "    </tr>\n",
       "    <tr>\n",
       "      <th>1</th>\n",
       "      <td>48.883550</td>\n",
       "      <td>2.326920</td>\n",
       "      <td>18.199619</td>\n",
       "      <td>False</td>\n",
       "      <td>68.0</td>\n",
       "    </tr>\n",
       "    <tr>\n",
       "      <th>2</th>\n",
       "      <td>48.883535</td>\n",
       "      <td>2.326846</td>\n",
       "      <td>29.490882</td>\n",
       "      <td>True</td>\n",
       "      <td>68.0</td>\n",
       "    </tr>\n",
       "    <tr>\n",
       "      <th>3</th>\n",
       "      <td>48.883535</td>\n",
       "      <td>2.326846</td>\n",
       "      <td>29.490882</td>\n",
       "      <td>False</td>\n",
       "      <td>68.0</td>\n",
       "    </tr>\n",
       "    <tr>\n",
       "      <th>4</th>\n",
       "      <td>48.883508</td>\n",
       "      <td>2.326714</td>\n",
       "      <td>39.599597</td>\n",
       "      <td>False</td>\n",
       "      <td>68.0</td>\n",
       "    </tr>\n",
       "  </tbody>\n",
       "</table>\n",
       "</div>"
      ],
      "text/plain": [
       "    latitude  longitude         pk    feu  altitude\n",
       "0  48.883602   2.327156   0.000000  False      68.0\n",
       "1  48.883550   2.326920  18.199619  False      68.0\n",
       "2  48.883535   2.326846  29.490882   True      68.0\n",
       "3  48.883535   2.326846  29.490882  False      68.0\n",
       "4  48.883508   2.326714  39.599597  False      68.0"
      ]
     },
     "execution_count": 209,
     "metadata": {},
     "output_type": "execute_result"
    }
   ],
   "source": [
    "df_points = pd.DataFrame(data=points, columns=['latitude', 'longitude', 'pk', 'feu', 'altitude'])\n",
    "df_points.head()"
   ]
  },
  {
   "cell_type": "markdown",
   "metadata": {},
   "source": [
    "Pour trouver l'altitude d'un point avec mapquest:<br>\n",
    "https://developer.mapquest.com/documentation/open/elevation-api/elevation-profile/get/"
   ]
  },
  {
   "cell_type": "code",
   "execution_count": 151,
   "metadata": {
    "collapsed": false
   },
   "outputs": [
    {
     "data": {
      "text/plain": [
       "[{'distance': 0, 'height': 72}]"
      ]
     },
     "execution_count": 151,
     "metadata": {},
     "output_type": "execute_result"
    }
   ],
   "source": [
    "key = \"vZXmqyBC7jVjQudfT94emh1ljjAlYVAp\"\n",
    "collection = \"48.883328,2.327177\"\n",
    "request = \"http://open.mapquestapi.com/elevation/v1/profile?key=\" + key + \"&shapeFormat=raw&latLngCollection=\" + collection\n",
    "res = urllib.request.urlopen(request).read()\n",
    "json_data = json.loads(res)\n",
    "altitudes = json_data['elevationProfile']\n",
    "altitudes"
   ]
  },
  {
   "cell_type": "code",
   "execution_count": 211,
   "metadata": {
    "collapsed": false
   },
   "outputs": [
    {
     "name": "stdout",
     "output_type": "stream",
     "text": [
      "334.9850702524608\n",
      "225.5707309160149\n",
      "292.4484835479029\n",
      "227.81848251568954\n",
      "400.26436321100573\n",
      "264.33683165087314\n",
      "201.37759422889417\n",
      "234.7083085462748\n",
      "202.774787196734\n",
      "291.0707014188174\n",
      "394.9449516693062\n",
      "203.5241434199488\n",
      "233.4527325245299\n",
      "208.96709296125164\n",
      "216.22866166994027\n",
      "304.18115052438816\n"
     ]
    }
   ],
   "source": [
    "# on vérifie que la distance entre 2 points n'est pas trop grande, pour ne pas avoir trop d'erreurs d'altitude\n",
    "i = 0\n",
    "for point in points:\n",
    "    if i == 0:\n",
    "        pk = point[2]\n",
    "        i += 1\n",
    "    if i > 0:\n",
    "        if (point[2] - pk) > 200:\n",
    "            print(point[2] - pk)\n",
    "            pk = point[2]\n",
    "            i += 1"
   ]
  },
  {
   "cell_type": "markdown",
   "metadata": {
    "collapsed": true
   },
   "source": [
    "!!!!!!!!! A faire : ajouter des points quand la longueur du segment fait plus de 200m"
   ]
  },
  {
   "cell_type": "markdown",
   "metadata": {
    "collapsed": true
   },
   "source": [
    "# Calcul de l'énergie"
   ]
  },
  {
   "cell_type": "code",
   "execution_count": 71,
   "metadata": {
    "collapsed": true
   },
   "outputs": [],
   "source": [
    "# masse, aérodynamique, roulement\n",
    "masse_vide = 20 # kg\n",
    "masse_chargement = 75\n",
    "masse_totale = masse_vide + masse_chargement\n",
    "coef_resist_rlmt = 0.006\n",
    "surface_frontale = 0.5 #m2\n",
    "coef_penetr_air_Cx = 0.55\n",
    "SCx = surface_frontale * coef_penetr_air_Cx\n",
    "masse_vol_air = 1.29 #kg / m3"
   ]
  },
  {
   "cell_type": "code",
   "execution_count": 72,
   "metadata": {
    "collapsed": true
   },
   "outputs": [],
   "source": [
    "# conditions de roulage\n",
    "vent_sol = 0 # km/h (vient de face => > 0)\n",
    "pente_route = 2 #%\n",
    "\n",
    "p_equipements = -0.15 # kW\n",
    "acceleration = 1 # m/s2\n",
    "vitesse = 30 # km/h\n",
    "\n",
    "vitesse_ms = vitesse * 10 / 36\n",
    "vent_reel = (vitesse + vent_sol) * 10 / 36 # m/s\n"
   ]
  },
  {
   "cell_type": "code",
   "execution_count": 73,
   "metadata": {
    "collapsed": true
   },
   "outputs": [],
   "source": [
    "rendement_transmission = 0.95"
   ]
  },
  {
   "cell_type": "markdown",
   "metadata": {},
   "source": [
    "!!!!!!<br>\n",
    "Il faut fixer la puissance du moteur, et en déduire l'accélération"
   ]
  },
  {
   "cell_type": "markdown",
   "metadata": {},
   "source": [
    "F_avancement (daN) = F_pente + F_roulement + F_aerodynamique + F_acceleration"
   ]
  },
  {
   "cell_type": "code",
   "execution_count": 74,
   "metadata": {
    "collapsed": false
   },
   "outputs": [
    {
     "data": {
      "text/plain": [
       "1.8639000000000001"
      ]
     },
     "execution_count": 74,
     "metadata": {},
     "output_type": "execute_result"
    }
   ],
   "source": [
    "F_pente = masse_totale * 9.81 * pente_route / (100 * 10) # m * g * pente/100\n",
    "F_roulement = masse_totale * coef_resist_rlmt * 9.81 / 10 # coef roul * masse * g\n",
    "F_aerodynamique = SCx * masse_vol_air * vent_reel **2 / (10 * 2) # (S * Cx *  mvol air * vit*vit) / 2\n",
    "F_acceleration = acceleration * masse_totale / 10 # acceleration * masse\n",
    "F_avancement = F_pente + F_roulement + F_aerodynamique + F_acceleration\n",
    "Puissance_moteur = F_avancement * vitesse_ms / rendement_transmission"
   ]
  },
  {
   "cell_type": "code",
   "execution_count": 79,
   "metadata": {
    "collapsed": false
   },
   "outputs": [
    {
     "data": {
      "text/plain": [
       "115.39334064327488"
      ]
     },
     "execution_count": 79,
     "metadata": {},
     "output_type": "execute_result"
    }
   ],
   "source": [
    "\n"
   ]
  }
 ],
 "metadata": {
  "kernelspec": {
   "display_name": "Python 3",
   "language": "python",
   "name": "python3"
  },
  "language_info": {
   "codemirror_mode": {
    "name": "ipython",
    "version": 3
   },
   "file_extension": ".py",
   "mimetype": "text/x-python",
   "name": "python",
   "nbconvert_exporter": "python",
   "pygments_lexer": "ipython3",
   "version": "3.6.0"
  }
 },
 "nbformat": 4,
 "nbformat_minor": 2
}
