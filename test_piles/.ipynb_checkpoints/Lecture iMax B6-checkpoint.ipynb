{
 "cells": [
  {
   "cell_type": "code",
   "execution_count": 7,
   "metadata": {
    "collapsed": false
   },
   "outputs": [],
   "source": [
    "import cv2\n",
    "import numpy as np\n"
   ]
  },
  {
   "cell_type": "markdown",
   "metadata": {},
   "source": [
    "Installer openCV sur anaconda avec Python 3.6 :<br>\n",
    "https://www.scivision.co/install-opencv-python-windows/<br>\n",
    "http://www.lfd.uci.edu/~gohlke/pythonlibs/#opencv\n",
    "\n",
    "Constantes :<br>\n",
    "https://github.com/opencv/opencv/blob/e3ae36dcb3c1d523802f8642e5c3984db43637c4/modules/python/src2/defs"
   ]
  },
  {
   "cell_type": "markdown",
   "metadata": {},
   "source": [
    "# Capture des images par Webcam"
   ]
  },
  {
   "cell_type": "code",
   "execution_count": 97,
   "metadata": {
    "collapsed": false
   },
   "outputs": [
    {
     "name": "stdout",
     "output_type": "stream",
     "text": [
      "1024.0\n",
      "768.0\n"
     ]
    }
   ],
   "source": [
    "# capture et masque live\n",
    "cap = cv2.VideoCapture(1)\n",
    "\n",
    "# il faut installer le pilote pour avoir une meilleure résolution\n",
    "# http://suporte.multilaser.com.br/downloads/detalhe/WC040/\n",
    "cap.set(3,1020)\n",
    "cap.set(4,840)\n",
    "\n",
    "print(cap.get(3))\n",
    "print(cap.get(4))\n",
    "\n",
    "i = 0\n",
    "while(True):\n",
    "    # Capture frame-by-frame\n",
    "    ret, frame = cap.read()\n",
    "\n",
    "    # Our operations on the frame come here\n",
    "    gray = cv2.cvtColor(frame, cv2.COLOR_BGR2GRAY)\n",
    "    #lab = cv2.cvtColor(frame, cv2.COLOR_BGR2LAB)\n",
    "    hsv = cv2.cvtColor(frame, cv2.COLOR_BGR2HSV)\n",
    "    \n",
    "    # define range of blue color in HSV\n",
    "    #l = np.array([140,20,70])\n",
    "    #u = np.array([60,45,100])\n",
    "\n",
    "    # Threshold the HSV image to get only blue colors\n",
    "    #mask = cv2.inRange(hsv, l, u)\n",
    "    #l = 170\n",
    "    #u = 255\n",
    "    #mask = cv2.inRange(gray, l, u)\n",
    "\n",
    "    # Bitwise-AND mask and original image\n",
    "    #res = cv2.bitwise_and(frame,frame, mask= mask)\n",
    "    \n",
    "    masque_ecran = cv2.inRange(gray, 80, 255)\n",
    "\n",
    "    cv2.imshow('frame',frame)\n",
    "    #cv2.imshow('mask',mask)\n",
    "    cv2.imshow('res',res)\n",
    "    cv2.imshow('ecran',masque_ecran)\n",
    "    \n",
    "    if i == 100:\n",
    "        cv2.imwrite(\"masque_ecran.jpg\", masque_ecran)\n",
    "        cv2.imwrite(\"ecran.jpg\", frame)\n",
    "\n",
    "    if cv2.waitKey(1) & 0xFF == ord('q'):\n",
    "        break\n",
    "    i += 1\n",
    "\n",
    "# When everything done, release the capture\n",
    "cap.release()\n",
    "cv2.destroyAllWindows()"
   ]
  },
  {
   "cell_type": "markdown",
   "metadata": {},
   "source": [
    "# Détection des bords de l'écran"
   ]
  },
  {
   "cell_type": "code",
   "execution_count": 50,
   "metadata": {
    "collapsed": false,
    "scrolled": false
   },
   "outputs": [
    {
     "name": "stdout",
     "output_type": "stream",
     "text": [
      "21.0 3.00197\n",
      "-939.0 3.08923\n",
      "337.0 1.47655\n",
      "546.0 1.46398\n"
     ]
    },
    {
     "data": {
      "text/plain": [
       "True"
      ]
     },
     "execution_count": 50,
     "metadata": {},
     "output_type": "execute_result"
    }
   ],
   "source": [
    "img = cv2.imread('masque_ecran.jpg')\n",
    "gray = cv2.cvtColor(img,cv2.COLOR_BGR2GRAY)\n",
    "edges = cv2.Canny(gray,50,150,apertureSize = 3)\n",
    "\n",
    "# détection des lignes verticales en jouant sur les paramètres : on n'en veut que 2\n",
    "lines1 = cv2.HoughLines(image=edges,rho=1,theta=np.pi/180,threshold=80)\n",
    "# cone d'angle accepté autour de la verticale\n",
    "thetamax = 0.07\n",
    "thetamin = 3\n",
    "i = 1\n",
    "for x in range(0, len(lines1)):\n",
    "    for rho, theta in lines1[x]:\n",
    "        a = np.cos(theta)\n",
    "        b = np.sin(theta)\n",
    "        x0 = a*rho\n",
    "        y0 = b*rho\n",
    "        x1 = int(x0 + 1000*(-b))\n",
    "        y1 = int(y0 + 1000*(a))\n",
    "        x2 = int(x0 - 1000*(-b))\n",
    "        y2 = int(y0 - 1000*(a))\n",
    "        \n",
    "        if (theta >= thetamin or theta <= thetamax):\n",
    "            print(rho, theta)\n",
    "            cv2.line(img,(x1,y1),(x2,y2),(0,0,255),2)\n",
    "            if i == 1:\n",
    "                dv1rho = rho\n",
    "                dv1theta = theta\n",
    "                vx11 = x1\n",
    "                vy11 = y1\n",
    "                vx12 = x2\n",
    "                vy12 = y2\n",
    "                \n",
    "            else:\n",
    "                dv2rho = rho\n",
    "                dv2theta = theta\n",
    "                vx21 = x1\n",
    "                vy21 = y1\n",
    "                vx22 = x2\n",
    "                vy22 = y2\n",
    "            i += 1\n",
    "            \n",
    "# détection des lignes horizontales en jouant sur les paramètres : on n'en veut que 2\n",
    "lines1 = cv2.HoughLines(image=edges,rho=1,theta=np.pi/500,threshold=390)\n",
    "\n",
    "i = 1\n",
    "for x in range(0, len(lines1)):\n",
    "    for rho, theta in lines1[x]:\n",
    "        a = np.cos(theta)\n",
    "        b = np.sin(theta)\n",
    "        x0 = a*rho\n",
    "        y0 = b*rho\n",
    "        x1 = int(x0 + 1000*(-b))\n",
    "        y1 = int(y0 + 1000*(a))\n",
    "        x2 = int(x0 - 1000*(-b))\n",
    "        y2 = int(y0 - 1000*(a))\n",
    "        print(rho, theta)\n",
    "        cv2.line(img,(x1,y1),(x2,y2),(0,0,255),2)\n",
    "        \n",
    "        if i == 1:\n",
    "            dh1rho = rho\n",
    "            dh1theta = theta\n",
    "            hx11 = x1\n",
    "            hy11 = y1\n",
    "            hx12 = x2\n",
    "            hy12 = y2\n",
    "        else:\n",
    "            dh2rho = rho\n",
    "            dh2theta = theta\n",
    "            hx21 = x1\n",
    "            hy21 = y1\n",
    "            hx22 = x2\n",
    "            hy22 = y2\n",
    "        i += 1\n",
    "\n",
    "#minLineLength = 2\n",
    "#maxLineGap = 500\n",
    "#lines2 = cv2.HoughLinesP(image=edges,rho=1,theta=np.pi/2,threshold=100,minLineLength=minLineLength,maxLineGap=maxLineGap)  \n",
    "#for x in range(0, len(lines2)):\n",
    "#    for x1,y1,x2,y2 in lines2[x]:\n",
    "#        cv2.line(img,(x1,y1),(x2,y2),(0,255,0),2)\n",
    "\n",
    "\n",
    "cv2.imwrite('out_masque.jpg',img)\n",
    "#cv2.imwrite('houghlines2.jpg',edges)\n"
   ]
  },
  {
   "cell_type": "markdown",
   "metadata": {},
   "source": [
    "# Transformation affine de l'écran"
   ]
  },
  {
   "cell_type": "markdown",
   "metadata": {
    "collapsed": true
   },
   "source": [
    "Maintenant, on fait une transformation affine pour que l'écran ait la forme d'un rectangle\n",
    "\n",
    "$x_1 = \\rho_1 cos(\\theta_1) - \\rho_{t1} sin(\\theta_1)$<br>\n",
    "$x_2 = \\rho_2 cos(\\theta_2) - \\rho_{t2} sin(\\theta_2)$<br>\n",
    "$y_1 = \\rho_1 sin(\\theta_1) + \\rho_{t1} cos(\\theta_1)$<br>\n",
    "$y_2 = \\rho_2 sin(\\theta_2) + \\rho_{t2} cos(\\theta_2)$<br>\n",
    "\n",
    "$x_1 = x_2 => \\rho_1 cos(\\theta_1) - \\rho_{t1} sin(\\theta_1) = \\rho_2 cos(\\theta_2) - \\rho_{t2} sin(\\theta_2)$<br>\n",
    "$y_1 = y_2 => \\rho_1 sin(\\theta_1) + \\rho_{t1} cos(\\theta_1) = \\rho_2 sin(\\theta_2) + \\rho_{t2} cos(\\theta_2)$"
   ]
  },
  {
   "cell_type": "markdown",
   "metadata": {},
   "source": [
    "$ \\rho_{t1} = \\frac{\\rho_1 cos(\\theta_1) - \\rho_2 cos(\\theta_2) + \\rho_{t2} sin(\\theta_2)}{sin(\\theta_1)} $<br>\n",
    "$\\rho_{t2} = \\frac{\\rho_1 sin(\\theta_1) + \\rho_{t1} cos(\\theta_1) - \\rho_2 sin(\\theta_2)}{cos(\\theta_2)}$"
   ]
  },
  {
   "cell_type": "markdown",
   "metadata": {},
   "source": [
    "$ \\rho_{t1} = \\frac{\\rho_1 cos(\\theta_1) - \\rho_2 cos(\\theta_2) + \\frac{\\rho_1 sin(\\theta_1) + \\rho_{t1} cos(\\theta_1) - \\rho_2 sin(\\theta_2)}{cos(\\theta_2)} sin(\\theta_2)}{sin(\\theta_1)} $"
   ]
  },
  {
   "cell_type": "markdown",
   "metadata": {},
   "source": [
    "$ \\rho_{t1} sin(\\theta_1) cos(\\theta_2) = \\rho_1 cos(\\theta_1) cos(\\theta_2) - \\rho_2 cos(\\theta_2) ^2 + [\\rho_1 sin(\\theta_1) + \\rho_{t1} cos(\\theta1) - \\rho_2 sin(\\theta_2)) ] sin(\\theta_2)$"
   ]
  },
  {
   "cell_type": "markdown",
   "metadata": {},
   "source": [
    "$ \\rho_{t1} sin(\\theta_1) cos(\\theta_2) - \\rho_{t1} cos(\\theta_1) sin(\\theta_2) = \\rho_1 cos(\\theta_1) cos(\\theta_2) - \\rho_2 cos(\\theta_2) ^2 + [\\rho_1 sin(\\theta_1) - \\rho_2 sin(\\theta_2)) ] sin(\\theta_2)$"
   ]
  },
  {
   "cell_type": "markdown",
   "metadata": {},
   "source": [
    "$ \\rho_{t1} = \\frac{\\rho_1 cos(\\theta_1) cos(\\theta_2) - \\rho_2 cos(\\theta_2) ^2 + [\\rho_1 sin(\\theta_1) - \\rho_2 sin(\\theta_2)) ] sin(\\theta_2)}{sin(\\theta_1) cos(\\theta_2) - cos(\\theta_1) sin(\\theta_2)} $"
   ]
  },
  {
   "cell_type": "code",
   "execution_count": 51,
   "metadata": {
    "collapsed": false
   },
   "outputs": [
    {
     "data": {
      "text/plain": [
       "True"
      ]
     },
     "execution_count": 51,
     "metadata": {},
     "output_type": "execute_result"
    }
   ],
   "source": [
    "# on calcule les 4 points des 4 côtés\n",
    "# on prend la première droite verticale, et on cherche les intersections avec les 2 droites horizontales\n",
    "rho1 = dv1rho\n",
    "theta1 = dv1theta\n",
    "rho2 = dh1rho\n",
    "theta2 = dh1theta\n",
    "rho = ( rho1 * np.cos(theta1) * np.cos(theta2) - rho2 * np.cos(theta2)**2 + (rho1 * np.sin(theta1) - rho2 * np.sin(theta2)) * np.sin(theta2) / (np.sin(theta1) * np.cos(theta2) - np.cos(theta1) * np.sin(theta2)))\n",
    "x = int(np.cos(theta1) * rho1 - rho * np.sin(theta1))\n",
    "y = int(np.sin(theta1) * rho1 + rho * np.cos(theta1))\n",
    "r = cv2.circle(img,(x,y), 5, (0,255,0), -1)\n",
    "P1 = (x, y)\n",
    "\n",
    "rho1 = dv1rho\n",
    "theta1 = dv1theta\n",
    "rho2 = dh2rho\n",
    "theta2 = dh2theta\n",
    "rho = ( rho1 * np.cos(theta1) * np.cos(theta2) - rho2 * np.cos(theta2)**2 + (rho1 * np.sin(theta1) - rho2 * np.sin(theta2)) * np.sin(theta2) / (np.sin(theta1) * np.cos(theta2) - np.cos(theta1) * np.sin(theta2)))\n",
    "x = int(np.cos(theta1) * rho1 - rho * np.sin(theta1))\n",
    "y = int(np.sin(theta1) * rho1 + rho * np.cos(theta1))\n",
    "r = cv2.circle(img,(x,y), 5, (0,255,0), -1)\n",
    "P2 = (x, y)\n",
    "\n",
    "# idem avec la 2eme verticale\n",
    "# attention, il faut inverser horizontale et verticale à cause de l'angle\n",
    "# !!!!!!!!! corriger ça\n",
    "rho1 = dv2rho\n",
    "theta1 = dv2theta\n",
    "rho2 = dh1rho\n",
    "theta2 = dh1theta\n",
    "\n",
    "rho = ( rho1 * np.cos(theta1) * np.cos(theta2) - rho2 * np.cos(theta2)**2 + (rho1 * np.sin(theta1) - rho2 * np.sin(theta2)) * np.sin(theta2) / (np.sin(theta1) * np.cos(theta2) - np.cos(theta1) * np.sin(theta2)))\n",
    "x = int(np.cos(theta1) * rho1 - rho * np.sin(theta1))\n",
    "y = int(np.sin(theta1) * rho1 + rho * np.cos(theta1))\n",
    "r = cv2.circle(img,(x,y), 5, (0,255,0), -1)\n",
    "P3 = (x, y)\n",
    "\n",
    "rho1 = dv2rho\n",
    "theta1 = dv2theta\n",
    "rho2 = dh2rho\n",
    "theta2 = dh2theta\n",
    "\n",
    "rho = ( rho1 * np.cos(theta1) * np.cos(theta2) - rho2 * np.cos(theta2)**2 + (rho1 * np.sin(theta1) - rho2 * np.sin(theta2)) * np.sin(theta2) / (np.sin(theta1) * np.cos(theta2) - np.cos(theta1) * np.sin(theta2)))\n",
    "x = int(np.cos(theta1) * rho1 - rho * np.sin(theta1))\n",
    "y = int(np.sin(theta1) * rho1 + rho * np.cos(theta1))\n",
    "r = cv2.circle(img,(x,y), 5, (0,255,0), -1)\n",
    "P4 = (x, y)\n",
    "\n",
    "cv2.imwrite('out_masque_lines.jpg',img)"
   ]
  },
  {
   "cell_type": "code",
   "execution_count": 52,
   "metadata": {
    "collapsed": false
   },
   "outputs": [
    {
     "data": {
      "text/plain": [
       "((26, 336), (55, 543), (953, 248), (963, 445))"
      ]
     },
     "execution_count": 52,
     "metadata": {},
     "output_type": "execute_result"
    }
   ],
   "source": [
    "(P1, P2, P3, P4)"
   ]
  },
  {
   "cell_type": "code",
   "execution_count": 55,
   "metadata": {
    "collapsed": false
   },
   "outputs": [
    {
     "data": {
      "image/png": "[encoded data removed]",
      "text/plain": [
       "<matplotlib.figure.Figure at 0x2badb15b5c0>"
      ]
     },
     "metadata": {},
     "output_type": "display_data"
    },
    {
     "data": {
      "text/plain": [
       "True"
      ]
     },
     "execution_count": 55,
     "metadata": {},
     "output_type": "execute_result"
    }
   ],
   "source": [
    "import matplotlib.pyplot as plt\n",
    "\n",
    "img = cv2.imread('ecran.jpg')\n",
    "rows,cols,ch = img.shape\n",
    "# taille mesurée de l'écran, en dixièeme de mm\n",
    "larg = 644 * 2\n",
    "haut = 151 * 2\n",
    "\n",
    "pts1 = np.float32([P1, P2, P3, P4])\n",
    "pts2 = np.float32([[0,0],[0,haut],[larg,0],[larg,haut]])\n",
    "\n",
    "M = cv2.getPerspectiveTransform(pts1,pts2)\n",
    "\n",
    "dst = cv2.warpPerspective(img,M,(larg,haut)) \n",
    "\n",
    "plt.subplot(121),plt.imshow(img),plt.title('Input')\n",
    "plt.subplot(122),plt.imshow(dst),plt.title('Output')\n",
    "plt.show()\n",
    "\n",
    "cv2.imwrite('out_ecran.jpg',dst)"
   ]
  },
  {
   "cell_type": "markdown",
   "metadata": {},
   "source": [
    "# Préparation de l'image pour l'OCR"
   ]
  },
  {
   "cell_type": "markdown",
   "metadata": {},
   "source": [
    "Comment préparer l'image : <br>\n",
    "https://github.com/tesseract-ocr/tesseract/wiki/ImproveQuality"
   ]
  },
  {
   "cell_type": "markdown",
   "metadata": {},
   "source": [
    "## Binarisation"
   ]
  },
  {
   "cell_type": "markdown",
   "metadata": {},
   "source": [
    "L'écran LCD n'est pas uniformément éclairé : il y a une lampe interne sur la gauche de l'écran.<br>\n",
    "Pour pouvoir faire une bonne binarisation, il faut donc le faire petite zone par petite zone.<br>\n",
    "Il se trouve que l'écran est composé de plusieurs zones, avec un caractère par zone, on va donc utiliser cette séparation"
   ]
  },
  {
   "cell_type": "markdown",
   "metadata": {},
   "source": [
    "Définition des zones:<br>\n",
    "Il y a 2 lignes de 16 cases, plus une marge tout autour de l'écran :<br>\n",
    "On va d'abord éliminer cette marge, puis on découpe l'image"
   ]
  },
  {
   "cell_type": "code",
   "execution_count": 165,
   "metadata": {
    "collapsed": false
   },
   "outputs": [],
   "source": [
    "img = cv2.imread('out_ecran.jpg')\n",
    "gray = cv2.cvtColor(img,cv2.COLOR_BGR2GRAY)\n",
    "edges = cv2.Canny(gray,53,55,apertureSize = 3, L2gradient =True)\n",
    "cv2.imwrite('out_ecran_gray.jpg',gray)\n",
    "cv2.imwrite('out_ecran_edges.jpg',edges)\n",
    "\n",
    "larg = 644 * 2\n",
    "haut = 151 * 2\n",
    "\n",
    "# on délimite les marges\n",
    "marge_h = 12 * 2\n",
    "#cv2.line(img,(0,marge_h),(larg, marge_h),(0,0,255),2)\n",
    "#cv2.line(img,(0,haut - marge_h),(larg, haut - marge_h),(0,0,255),2)\n",
    "marge_vg = 84\n",
    "marge_vd = 90\n",
    "#cv2.line(img,(marge_vg,0),(marge_vg, haut),(0,0,255),2)\n",
    "#cv2.line(img,(larg - marge_vd,0),(larg - marge_vd, haut),(0,0,255),2)\n",
    "\n",
    "# on subdivise cette zone\n",
    "nb_v = 16\n",
    "nb_h = 2\n",
    "\n",
    "#for i in range(nb_h - 1):\n",
    "#    y = int((haut - 2 * marge_h) / nb_h * (i + 1) + marge_h)\n",
    "#    cv2.line(img,(0,y),(larg, y),(0,255,0),2)\n",
    "fact_corr = 0.996\n",
    "#for i in range(nb_v - 1):\n",
    "#    x = int((larg - (marge_vg + marge_vd)) / nb_v * (i + 1) * fact_corr + marge_vg)\n",
    "#    cv2.line(img,(x,0),(x, haut),(0,255,0),2)\n",
    "#\n",
    "#cv2.imwrite('out_ecran_marges.jpg',img)\n",
    "\n",
    "# on fait un tableau avec ces images\n",
    "imgs = []\n",
    "for i in range(nb_h):\n",
    "    yh = int((haut - 2 * marge_h) / nb_h * (i + 1) + marge_h)\n",
    "    yb = int((haut - 2 * marge_h) / nb_h * (i) + marge_h)\n",
    "    imgs_tmp = []\n",
    "    for j in range(nb_v):\n",
    "        xg = int((larg - (marge_vg + marge_vd)) / nb_v * (j) * fact_corr + marge_vg)\n",
    "        xd = int((larg - (marge_vg + marge_vd)) / nb_v * (j + 1) * fact_corr + marge_vg)\n",
    "        img_tmp = img[yb:yh, xg:xd]\n",
    "        imgs_tmp.append(img_tmp)\n",
    "        cv2.imwrite('out_ecran_part.jpg',img_tmp)\n",
    "    imgs.append(imgs_tmp)\n",
    "\n",
    "        "
   ]
  },
  {
   "cell_type": "markdown",
   "metadata": {},
   "source": [
    "Sur chacune de ces images, on défini un masque basé sur la couleur bleue et on ajoute une marge"
   ]
  },
  {
   "cell_type": "code",
   "execution_count": 166,
   "metadata": {
    "collapsed": false
   },
   "outputs": [],
   "source": [
    "lower = [170, 150, 50]\n",
    "lower = np.array(lower, dtype = \"uint8\")\n",
    "upper = [255, 255, 220]\n",
    "upper = np.array(upper, dtype = \"uint8\")\n",
    "\n",
    "for i in range(nb_h):\n",
    "    for j in range(nb_v):\n",
    "        iop = imgs[i][j]\n",
    "        mask = cv2.inRange(iop, lower, upper)\n",
    "        #output = cv2.bitwise_and(iop, iop, mask = mask)\n",
    "        constant= cv2.copyMakeBorder(mask,10,10,10,10,cv2.BORDER_CONSTANT,value=[255,255,255])\n",
    "        cv2.imwrite('out_part_black' + str(i) + \"_\" + str(j) + '.jpg',constant)\n",
    "        imgs[i][j] = constant"
   ]
  },
  {
   "cell_type": "markdown",
   "metadata": {},
   "source": [
    "# Utilisation de Tesseract"
   ]
  },
  {
   "cell_type": "markdown",
   "metadata": {
    "collapsed": true
   },
   "source": [
    "Installer Tesseract :<br>\n",
    "https://github.com/UB-Mannheim/tesseract/wiki<br>\n",
    "Mettre tesseract dans le PATH\n",
    "\n",
    "Installer pytesseract:<br>\n",
    "pip install pytesseract\n",
    "\n",
    "Lancer Jupyter Notebook à partir d'une console avec les droits administrateur !!<br>\n",
    "(sinon, tesseract n'arrive pas à lire les fichiers temporaires)"
   ]
  },
  {
   "cell_type": "code",
   "execution_count": 168,
   "metadata": {
    "collapsed": false
   },
   "outputs": [
    {
     "name": "stdout",
     "output_type": "stream",
     "text": [
      "\n"
     ]
    }
   ],
   "source": [
    "try:\n",
    "    import Image\n",
    "except ImportError:\n",
    "    from PIL import Image\n",
    "import pytesseract\n",
    "char = \"tessedit_char_whitelist=0123456789mahLiIoCHARGES=.VD()BAL-\"\n",
    "tessdata_dir_config = '--tessdata-dir \"C:\\\\Program Files (x86)\\\\Tesseract-OCR\\\\tessdata\" ' + char\n",
    "\n",
    "#print(pytesseract.image_to_string(Image.open('test.png')))\n",
    "#print(pytesseract.image_to_string(Image.open('eurotext.tif'), lang='eng', config=tessdata_dir_config))\n",
    "image = \"out_part_black0_15.jpg\"\n",
    "print(pytesseract.image_to_string(Image.open(image)))"
   ]
  },
  {
   "cell_type": "code",
   "execution_count": null,
   "metadata": {
    "collapsed": true
   },
   "outputs": [],
   "source": []
  }
 ],
 "metadata": {
  "kernelspec": {
   "display_name": "Python 3",
   "language": "python",
   "name": "python3"
  },
  "language_info": {
   "codemirror_mode": {
    "name": "ipython",
    "version": 3
   },
   "file_extension": ".py",
   "mimetype": "text/x-python",
   "name": "python",
   "nbconvert_exporter": "python",
   "pygments_lexer": "ipython3",
   "version": "3.6.0"
  }
 },
 "nbformat": 4,
 "nbformat_minor": 2
}
